{
 "cells": [
  {
   "cell_type": "code",
   "execution_count": 49,
   "metadata": {},
   "outputs": [
    {
     "name": "stdout",
     "output_type": "stream",
     "text": [
      "Total Months: 86\n",
      "Total = $38382578\n"
     ]
    },
    {
     "ename": "TypeError",
     "evalue": "'int' object is not iterable",
     "output_type": "error",
     "traceback": [
      "\u001b[0;31m---------------------------------------------------------------------------\u001b[0m",
      "\u001b[0;31mTypeError\u001b[0m                                 Traceback (most recent call last)",
      "\u001b[0;32m<ipython-input-49-3e059b045996>\u001b[0m in \u001b[0;36m<module>\u001b[0;34m\u001b[0m\n\u001b[1;32m     63\u001b[0m     \u001b[0;31m#for i in bymonth_change:\u001b[0m\u001b[0;34m\u001b[0m\u001b[0;34m\u001b[0m\u001b[0;34m\u001b[0m\u001b[0m\n\u001b[1;32m     64\u001b[0m         \u001b[0;31m#bymonth_sum = sum + i\u001b[0m\u001b[0;34m\u001b[0m\u001b[0;34m\u001b[0m\u001b[0;34m\u001b[0m\u001b[0m\n\u001b[0;32m---> 65\u001b[0;31m     \u001b[0mbymonth_sum\u001b[0m \u001b[0;34m=\u001b[0m \u001b[0msum\u001b[0m\u001b[0;34m(\u001b[0m\u001b[0mbymonth_change\u001b[0m\u001b[0;34m)\u001b[0m\u001b[0;34m\u001b[0m\u001b[0;34m\u001b[0m\u001b[0m\n\u001b[0m\u001b[1;32m     66\u001b[0m     \u001b[0mprint\u001b[0m\u001b[0;34m(\u001b[0m\u001b[0mbymonth_sum\u001b[0m\u001b[0;34m)\u001b[0m\u001b[0;34m\u001b[0m\u001b[0;34m\u001b[0m\u001b[0m\n\u001b[1;32m     67\u001b[0m \u001b[0;34m\u001b[0m\u001b[0m\n",
      "\u001b[0;31mTypeError\u001b[0m: 'int' object is not iterable"
     ]
    }
   ],
   "source": [
    "#import required libraries\n",
    "import os \n",
    "import csv\n",
    "\n",
    "#import csv file\n",
    "budget_csv = os.path.join('/Users/ahillike/Desktop/RICH201901DATA3/03-Python/Homework/Instructions/PyBank/Resources/budget_data.csv')\n",
    "with open(budget_csv, newline = \"\") as csvfile:\n",
    "    csvreader = csv.reader(csvfile, delimiter = \",\")\n",
    "    \n",
    "    #Read the header row first and go to next row\n",
    "    csv_header = next(csvreader)\n",
    "    #print(csv_header)\n",
    "    \n",
    "    #Turn csv file into list; two columns- Date and Profit/Losses\n",
    "    budget_list = list(csvreader)\n",
    "    #print(budget_list)\n",
    "\n",
    "# The total number of months included in the dataset; count the number of rows (not header); \n",
    "    #assumes data is always given as totals for the month\n",
    "    \n",
    "    month_count = len(budget_list)\n",
    "    print(f'Total Months: {month_count}')\n",
    "        \n",
    "# The net total amount of \"Profit/Losses\" over the entire period; sum all cells in column 2 except header\n",
    "    #Make new list and read through to grab 2nd item in each list\n",
    "    #Note that it needs to be converted from string to integer\n",
    "    profit_list = []\n",
    "    profit_list = [int(row[1]) for row in budget_list]\n",
    "    #print(profit_list)\n",
    "    #sum all of the profit/loss values\n",
    "    net_tot = sum([i for i in profit_list])\n",
    "    print(f'Total = ${net_tot}')\n",
    "\n",
    "# The average of the changes in \"Profit/Losses\" over the entire period\n",
    "    #make a list of the months and trim off the first\n",
    "    month_list = [row[0] for row in budget_list]\n",
    "    month_list = month_list[1:]\n",
    "    #print(month_list)\n",
    "    \n",
    "    #make a list of \"current months profits\", which would be rows 2 on\n",
    "    current_month_earn = profit_list[1:]\n",
    "    #print(current_month_earn)\n",
    "    #make a list of \"last months profits\", which would be rows 1 to penultimate row\n",
    "    last_month_earn = profit_list[0:-1]\n",
    "    #print(last_month_earn)       \n",
    "    #print(len(current_month_earn))\n",
    "    #print(len(last_month_earn))\n",
    "    #calculate average monthly change by subtracting the previous month's profit/loss from the current month\n",
    "    #set up as 2 lists, outputting a list of the change for each month\n",
    "    bymonth_change = []\n",
    "    for i in range(len(current_month_earn)):\n",
    "        bymonth_change = current_month_earn[i] - last_month_earn[i]\n",
    "        #bymonth_change = str(bymonth_change)\n",
    "        #bymonth_change = [row[0] for row in bymonth_change]\n",
    "        #bymonth_change = str(bymonth_change)\n",
    "        #bymonth_change = list[bymonth_change]\n",
    "        #PROBLEM: doesn't look like a python list with brackets and commas in horizontal direction; looks like a vertical list of numbers\n",
    "        #print(bymonth_change)\n",
    "        \n",
    "    #Sum the monthly changes in profit/loss\n",
    "    bymonth_sum = -196785 #TEMPORARY VALUE to test code below\n",
    "    #PROBLEM: get error 'int' object is not subscriptable\n",
    "    #for i in bymonth_change:\n",
    "        #bymonth_sum = sum + i\n",
    "    #bymonth_sum = sum(bymonth_change)\n",
    "    #print(bymonth_sum)\n",
    "    \n",
    "    \n",
    "    #PROBLEM: getting last # in list, not sum\n",
    "#    bymonth_sum = 0\n",
    "    #PROBLEM: get error 'int' object is not subscriptable\n",
    "#     for i in range(bymonth_change):\n",
    "#         bymonth_sum = sum([bymonth_change[i]])\n",
    "    #PROBLEM: get error 'int' object is not subscriptable\n",
    "#     bymonth_sum = sum(bymonth_change)\n",
    "#    print(bymonth_sum)\n",
    "    \n",
    "#Calculate the average (once I can get the sum)\n",
    "#   avg_monthly_change = int(bymonth_sum) / len(current_month_earn)\n",
    "#     print(avg_monthly_change)\n",
    "#     #monthly_change = [((i+1)- i) for i in profit_list]\n",
    "    #print(monthly_change)\n",
    "        \n",
    "# The greatest increase in profits (date and amount) over the entire period\n",
    "    #calculate monthly change in profit by subtracting previous month from current month\n",
    "    #search for largest number\n",
    "# The greatest decrease in losses (date and amount) over the entire period\n",
    "#search for smallest (most negative) number from monthly change in profit"
   ]
  },
  {
   "cell_type": "code",
   "execution_count": null,
   "metadata": {},
   "outputs": [],
   "source": []
  },
  {
   "cell_type": "code",
   "execution_count": null,
   "metadata": {},
   "outputs": [],
   "source": []
  }
 ],
 "metadata": {
  "kernelspec": {
   "display_name": "Python 3",
   "language": "python",
   "name": "python3"
  },
  "language_info": {
   "codemirror_mode": {
    "name": "ipython",
    "version": 3
   },
   "file_extension": ".py",
   "mimetype": "text/x-python",
   "name": "python",
   "nbconvert_exporter": "python",
   "pygments_lexer": "ipython3",
   "version": "3.7.1"
  }
 },
 "nbformat": 4,
 "nbformat_minor": 2
}
